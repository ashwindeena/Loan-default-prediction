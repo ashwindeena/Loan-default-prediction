{
 "cells": [
  {
   "cell_type": "code",
   "execution_count": 16,
   "metadata": {},
   "outputs": [],
   "source": [
    "import pandas as pd\n",
    "import numpy as np\n",
    "import matplotlib.pyplot as plt\n",
    "import seaborn as sns\n",
    "from datetime import datetime,date\n",
    "\n",
    "import warnings\n",
    "warnings.filterwarnings(\"ignore\")"
   ]
  },
  {
   "cell_type": "code",
   "execution_count": 17,
   "metadata": {},
   "outputs": [
    {
     "data": {
      "text/plain": [
       "'C:\\\\Users\\\\Del\\\\Downloads\\\\KNN models'"
      ]
     },
     "execution_count": 17,
     "metadata": {},
     "output_type": "execute_result"
    }
   ],
   "source": [
    "pwd"
   ]
  },
  {
   "cell_type": "code",
   "execution_count": 18,
   "metadata": {},
   "outputs": [],
   "source": [
    "df = pd.read_csv(r'C:\\\\Users\\\\Del\\\\Downloads\\\\Loan data cleaned.csv')"
   ]
  },
  {
   "cell_type": "code",
   "execution_count": 19,
   "metadata": {
    "scrolled": true
   },
   "outputs": [
    {
     "data": {
      "text/plain": [
       "Index(['loannumber', 'loanamount', 'totaldue', 'termdays', 'good_bad_flag',\n",
       "       'bank_account_type', 'longitude_gps', 'latitude_gps',\n",
       "       'bank_name_clients', 'employment_status_clients', 'approval_time',\n",
       "       'creationdate_dow', 'additional_charges', 'is_referred', 'age',\n",
       "       'ploan_loanamount_mean', 'ploan_loanamount_min', 'ploan_loanamount_25%',\n",
       "       'ploan_loanamount_50%', 'ploan_loanamount_75%', 'ploan_loanamount_max',\n",
       "       'ploan_totaldue_mean', 'ploan_totaldue_min', 'ploan_totaldue_25%',\n",
       "       'ploan_totaldue_50%', 'ploan_totaldue_75%', 'ploan_totaldue_max',\n",
       "       'ploan_termdays_mean', 'ploan_termdays_min', 'ploan_termdays_25%',\n",
       "       'ploan_termdays_50%', 'ploan_termdays_75%', 'ploan_termdays_max',\n",
       "       'ploan_approval_time_mean', 'ploan_approval_time_min',\n",
       "       'ploan_approval_time_25%', 'ploan_approval_time_50%',\n",
       "       'ploan_approval_time_75%', 'ploan_approval_time_max',\n",
       "       'ploan_return_days_mean', 'ploan_return_days_min',\n",
       "       'ploan_return_days_25%', 'ploan_return_days_50%',\n",
       "       'ploan_return_days_75%', 'ploan_return_days_max',\n",
       "       'ploan_first_return_days_mean', 'ploan_first_return_days_min',\n",
       "       'ploan_first_return_days_25%', 'ploan_first_return_days_50%',\n",
       "       'ploan_first_return_days_75%', 'ploan_first_return_days_max',\n",
       "       'ploan_additional charges_mean_x', 'ploan_additional charges_min_x',\n",
       "       'ploan_additional charges_25%_x', 'ploan_additional charges_50%_x',\n",
       "       'ploan_additional charges_75%_x', 'ploan_additional charges_max_x',\n",
       "       'ploan_additional charges_mean_y', 'ploan_additional charges_min_y',\n",
       "       'ploan_additional charges_25%_y', 'ploan_additional charges_50%_y',\n",
       "       'ploan_additional charges_75%_y', 'ploan_additional charges_max_y',\n",
       "       'not_repaid_percentage'],\n",
       "      dtype='object')"
      ]
     },
     "execution_count": 19,
     "metadata": {},
     "output_type": "execute_result"
    }
   ],
   "source": [
    "df.columns"
   ]
  },
  {
   "cell_type": "code",
   "execution_count": 20,
   "metadata": {},
   "outputs": [
    {
     "data": {
      "text/plain": [
       "Index(['good_bad_flag', 'bank_account_type', 'bank_name_clients',\n",
       "       'employment_status_clients'],\n",
       "      dtype='object')"
      ]
     },
     "execution_count": 20,
     "metadata": {},
     "output_type": "execute_result"
    }
   ],
   "source": [
    "df.select_dtypes('object').columns"
   ]
  },
  {
   "cell_type": "code",
   "execution_count": 21,
   "metadata": {},
   "outputs": [],
   "source": [
    "df['good_bad_flag'] = df['good_bad_flag'].replace(to_replace=['Good','Bad'],value=[0,1])"
   ]
  },
  {
   "cell_type": "code",
   "execution_count": 22,
   "metadata": {},
   "outputs": [
    {
     "data": {
      "text/html": [
       "<div>\n",
       "<style scoped>\n",
       "    .dataframe tbody tr th:only-of-type {\n",
       "        vertical-align: middle;\n",
       "    }\n",
       "\n",
       "    .dataframe tbody tr th {\n",
       "        vertical-align: top;\n",
       "    }\n",
       "\n",
       "    .dataframe thead th {\n",
       "        text-align: right;\n",
       "    }\n",
       "</style>\n",
       "<table border=\"1\" class=\"dataframe\">\n",
       "  <thead>\n",
       "    <tr style=\"text-align: right;\">\n",
       "      <th></th>\n",
       "      <th>loannumber</th>\n",
       "      <th>loanamount</th>\n",
       "      <th>totaldue</th>\n",
       "      <th>termdays</th>\n",
       "      <th>good_bad_flag</th>\n",
       "      <th>bank_account_type</th>\n",
       "      <th>longitude_gps</th>\n",
       "      <th>latitude_gps</th>\n",
       "      <th>bank_name_clients</th>\n",
       "      <th>employment_status_clients</th>\n",
       "      <th>...</th>\n",
       "      <th>ploan_additional charges_50%_x</th>\n",
       "      <th>ploan_additional charges_75%_x</th>\n",
       "      <th>ploan_additional charges_max_x</th>\n",
       "      <th>ploan_additional charges_mean_y</th>\n",
       "      <th>ploan_additional charges_min_y</th>\n",
       "      <th>ploan_additional charges_25%_y</th>\n",
       "      <th>ploan_additional charges_50%_y</th>\n",
       "      <th>ploan_additional charges_75%_y</th>\n",
       "      <th>ploan_additional charges_max_y</th>\n",
       "      <th>not_repaid_percentage</th>\n",
       "    </tr>\n",
       "  </thead>\n",
       "  <tbody>\n",
       "    <tr>\n",
       "      <td>0</td>\n",
       "      <td>12</td>\n",
       "      <td>30000.0</td>\n",
       "      <td>34500.0</td>\n",
       "      <td>30</td>\n",
       "      <td>0</td>\n",
       "      <td>Other</td>\n",
       "      <td>3.432010</td>\n",
       "      <td>6.433055</td>\n",
       "      <td>Diamond Bank</td>\n",
       "      <td>Permanent</td>\n",
       "      <td>...</td>\n",
       "      <td>3800.000000</td>\n",
       "      <td>4500.000000</td>\n",
       "      <td>4500.000000</td>\n",
       "      <td>3900.000000</td>\n",
       "      <td>3000.000000</td>\n",
       "      <td>3400.000000</td>\n",
       "      <td>3800.000000</td>\n",
       "      <td>4500.000000</td>\n",
       "      <td>4500.000000</td>\n",
       "      <td>64.000000</td>\n",
       "    </tr>\n",
       "    <tr>\n",
       "      <td>1</td>\n",
       "      <td>2</td>\n",
       "      <td>15000.0</td>\n",
       "      <td>17250.0</td>\n",
       "      <td>30</td>\n",
       "      <td>0</td>\n",
       "      <td>Savings</td>\n",
       "      <td>3.885298</td>\n",
       "      <td>7.320700</td>\n",
       "      <td>GT Bank</td>\n",
       "      <td>Permanent</td>\n",
       "      <td>...</td>\n",
       "      <td>2665.558293</td>\n",
       "      <td>3037.525723</td>\n",
       "      <td>3543.851778</td>\n",
       "      <td>2730.359972</td>\n",
       "      <td>2102.661161</td>\n",
       "      <td>2364.738902</td>\n",
       "      <td>2665.558293</td>\n",
       "      <td>3037.525723</td>\n",
       "      <td>3543.851778</td>\n",
       "      <td>63.573297</td>\n",
       "    </tr>\n",
       "    <tr>\n",
       "      <td>2</td>\n",
       "      <td>7</td>\n",
       "      <td>20000.0</td>\n",
       "      <td>22250.0</td>\n",
       "      <td>15</td>\n",
       "      <td>0</td>\n",
       "      <td>Other</td>\n",
       "      <td>11.139350</td>\n",
       "      <td>10.292041</td>\n",
       "      <td>EcoBank</td>\n",
       "      <td>Permanent</td>\n",
       "      <td>...</td>\n",
       "      <td>1500.000000</td>\n",
       "      <td>1500.000000</td>\n",
       "      <td>3000.000000</td>\n",
       "      <td>1750.000000</td>\n",
       "      <td>1500.000000</td>\n",
       "      <td>1500.000000</td>\n",
       "      <td>1500.000000</td>\n",
       "      <td>1500.000000</td>\n",
       "      <td>3000.000000</td>\n",
       "      <td>50.000000</td>\n",
       "    </tr>\n",
       "    <tr>\n",
       "      <td>3</td>\n",
       "      <td>3</td>\n",
       "      <td>10000.0</td>\n",
       "      <td>11500.0</td>\n",
       "      <td>15</td>\n",
       "      <td>0</td>\n",
       "      <td>Savings</td>\n",
       "      <td>3.985770</td>\n",
       "      <td>7.491708</td>\n",
       "      <td>First Bank</td>\n",
       "      <td>Permanent</td>\n",
       "      <td>...</td>\n",
       "      <td>2250.000000</td>\n",
       "      <td>2625.000000</td>\n",
       "      <td>3000.000000</td>\n",
       "      <td>2250.000000</td>\n",
       "      <td>1500.000000</td>\n",
       "      <td>1875.000000</td>\n",
       "      <td>2250.000000</td>\n",
       "      <td>2625.000000</td>\n",
       "      <td>3000.000000</td>\n",
       "      <td>0.000000</td>\n",
       "    </tr>\n",
       "    <tr>\n",
       "      <td>4</td>\n",
       "      <td>9</td>\n",
       "      <td>40000.0</td>\n",
       "      <td>44000.0</td>\n",
       "      <td>30</td>\n",
       "      <td>0</td>\n",
       "      <td>Other</td>\n",
       "      <td>7.457913</td>\n",
       "      <td>9.076574</td>\n",
       "      <td>GT Bank</td>\n",
       "      <td>Permanent</td>\n",
       "      <td>...</td>\n",
       "      <td>3800.000000</td>\n",
       "      <td>5100.000000</td>\n",
       "      <td>9000.000000</td>\n",
       "      <td>4800.000000</td>\n",
       "      <td>3000.000000</td>\n",
       "      <td>3000.000000</td>\n",
       "      <td>3800.000000</td>\n",
       "      <td>5100.000000</td>\n",
       "      <td>9000.000000</td>\n",
       "      <td>100.000000</td>\n",
       "    </tr>\n",
       "  </tbody>\n",
       "</table>\n",
       "<p>5 rows × 64 columns</p>\n",
       "</div>"
      ],
      "text/plain": [
       "   loannumber  loanamount  totaldue  termdays  good_bad_flag  \\\n",
       "0          12     30000.0   34500.0        30              0   \n",
       "1           2     15000.0   17250.0        30              0   \n",
       "2           7     20000.0   22250.0        15              0   \n",
       "3           3     10000.0   11500.0        15              0   \n",
       "4           9     40000.0   44000.0        30              0   \n",
       "\n",
       "  bank_account_type  longitude_gps  latitude_gps bank_name_clients  \\\n",
       "0             Other       3.432010      6.433055      Diamond Bank   \n",
       "1           Savings       3.885298      7.320700           GT Bank   \n",
       "2             Other      11.139350     10.292041           EcoBank   \n",
       "3           Savings       3.985770      7.491708        First Bank   \n",
       "4             Other       7.457913      9.076574           GT Bank   \n",
       "\n",
       "  employment_status_clients  ...  ploan_additional charges_50%_x  \\\n",
       "0                 Permanent  ...                     3800.000000   \n",
       "1                 Permanent  ...                     2665.558293   \n",
       "2                 Permanent  ...                     1500.000000   \n",
       "3                 Permanent  ...                     2250.000000   \n",
       "4                 Permanent  ...                     3800.000000   \n",
       "\n",
       "   ploan_additional charges_75%_x  ploan_additional charges_max_x  \\\n",
       "0                     4500.000000                     4500.000000   \n",
       "1                     3037.525723                     3543.851778   \n",
       "2                     1500.000000                     3000.000000   \n",
       "3                     2625.000000                     3000.000000   \n",
       "4                     5100.000000                     9000.000000   \n",
       "\n",
       "   ploan_additional charges_mean_y  ploan_additional charges_min_y  \\\n",
       "0                      3900.000000                     3000.000000   \n",
       "1                      2730.359972                     2102.661161   \n",
       "2                      1750.000000                     1500.000000   \n",
       "3                      2250.000000                     1500.000000   \n",
       "4                      4800.000000                     3000.000000   \n",
       "\n",
       "   ploan_additional charges_25%_y  ploan_additional charges_50%_y  \\\n",
       "0                     3400.000000                     3800.000000   \n",
       "1                     2364.738902                     2665.558293   \n",
       "2                     1500.000000                     1500.000000   \n",
       "3                     1875.000000                     2250.000000   \n",
       "4                     3000.000000                     3800.000000   \n",
       "\n",
       "   ploan_additional charges_75%_y  ploan_additional charges_max_y  \\\n",
       "0                     4500.000000                     4500.000000   \n",
       "1                     3037.525723                     3543.851778   \n",
       "2                     1500.000000                     3000.000000   \n",
       "3                     2625.000000                     3000.000000   \n",
       "4                     5100.000000                     9000.000000   \n",
       "\n",
       "   not_repaid_percentage  \n",
       "0              64.000000  \n",
       "1              63.573297  \n",
       "2              50.000000  \n",
       "3               0.000000  \n",
       "4             100.000000  \n",
       "\n",
       "[5 rows x 64 columns]"
      ]
     },
     "execution_count": 22,
     "metadata": {},
     "output_type": "execute_result"
    }
   ],
   "source": [
    "df.head()"
   ]
  },
  {
   "cell_type": "code",
   "execution_count": 23,
   "metadata": {},
   "outputs": [],
   "source": [
    "mylist = list(df.select_dtypes(include=['object']).columns)"
   ]
  },
  {
   "cell_type": "code",
   "execution_count": 24,
   "metadata": {},
   "outputs": [
    {
     "data": {
      "text/plain": [
       "['bank_account_type', 'bank_name_clients', 'employment_status_clients']"
      ]
     },
     "execution_count": 24,
     "metadata": {},
     "output_type": "execute_result"
    }
   ],
   "source": [
    "mylist"
   ]
  },
  {
   "cell_type": "code",
   "execution_count": 25,
   "metadata": {},
   "outputs": [],
   "source": [
    "dummies = pd.get_dummies(df[mylist],prefix=mylist,drop_first=True)\n",
    "df.drop(mylist,axis=1,inplace=True)\n",
    "df = pd.concat([df,dummies],axis=1)"
   ]
  },
  {
   "cell_type": "code",
   "execution_count": 26,
   "metadata": {},
   "outputs": [
    {
     "data": {
      "text/html": [
       "<div>\n",
       "<style scoped>\n",
       "    .dataframe tbody tr th:only-of-type {\n",
       "        vertical-align: middle;\n",
       "    }\n",
       "\n",
       "    .dataframe tbody tr th {\n",
       "        vertical-align: top;\n",
       "    }\n",
       "\n",
       "    .dataframe thead th {\n",
       "        text-align: right;\n",
       "    }\n",
       "</style>\n",
       "<table border=\"1\" class=\"dataframe\">\n",
       "  <thead>\n",
       "    <tr style=\"text-align: right;\">\n",
       "      <th></th>\n",
       "      <th>loannumber</th>\n",
       "      <th>loanamount</th>\n",
       "      <th>totaldue</th>\n",
       "      <th>termdays</th>\n",
       "      <th>good_bad_flag</th>\n",
       "      <th>longitude_gps</th>\n",
       "      <th>latitude_gps</th>\n",
       "      <th>approval_time</th>\n",
       "      <th>creationdate_dow</th>\n",
       "      <th>additional_charges</th>\n",
       "      <th>...</th>\n",
       "      <th>bank_name_clients_Skye Bank</th>\n",
       "      <th>bank_name_clients_Stanbic IBTC</th>\n",
       "      <th>bank_name_clients_Standard Chartered</th>\n",
       "      <th>bank_name_clients_Sterling Bank</th>\n",
       "      <th>bank_name_clients_UBA</th>\n",
       "      <th>bank_name_clients_Union Bank</th>\n",
       "      <th>bank_name_clients_Unity Bank</th>\n",
       "      <th>bank_name_clients_Wema Bank</th>\n",
       "      <th>bank_name_clients_Zenith Bank</th>\n",
       "      <th>employment_status_clients_Permanent</th>\n",
       "    </tr>\n",
       "  </thead>\n",
       "  <tbody>\n",
       "    <tr>\n",
       "      <td>0</td>\n",
       "      <td>12</td>\n",
       "      <td>30000.0</td>\n",
       "      <td>34500.0</td>\n",
       "      <td>30</td>\n",
       "      <td>0</td>\n",
       "      <td>3.432010</td>\n",
       "      <td>6.433055</td>\n",
       "      <td>1.00</td>\n",
       "      <td>1</td>\n",
       "      <td>4500.0</td>\n",
       "      <td>...</td>\n",
       "      <td>0</td>\n",
       "      <td>0</td>\n",
       "      <td>0</td>\n",
       "      <td>0</td>\n",
       "      <td>0</td>\n",
       "      <td>0</td>\n",
       "      <td>0</td>\n",
       "      <td>0</td>\n",
       "      <td>0</td>\n",
       "      <td>1</td>\n",
       "    </tr>\n",
       "    <tr>\n",
       "      <td>1</td>\n",
       "      <td>2</td>\n",
       "      <td>15000.0</td>\n",
       "      <td>17250.0</td>\n",
       "      <td>30</td>\n",
       "      <td>0</td>\n",
       "      <td>3.885298</td>\n",
       "      <td>7.320700</td>\n",
       "      <td>1.01</td>\n",
       "      <td>2</td>\n",
       "      <td>2250.0</td>\n",
       "      <td>...</td>\n",
       "      <td>0</td>\n",
       "      <td>0</td>\n",
       "      <td>0</td>\n",
       "      <td>0</td>\n",
       "      <td>0</td>\n",
       "      <td>0</td>\n",
       "      <td>0</td>\n",
       "      <td>0</td>\n",
       "      <td>0</td>\n",
       "      <td>1</td>\n",
       "    </tr>\n",
       "    <tr>\n",
       "      <td>2</td>\n",
       "      <td>7</td>\n",
       "      <td>20000.0</td>\n",
       "      <td>22250.0</td>\n",
       "      <td>15</td>\n",
       "      <td>0</td>\n",
       "      <td>11.139350</td>\n",
       "      <td>10.292041</td>\n",
       "      <td>1.00</td>\n",
       "      <td>3</td>\n",
       "      <td>2250.0</td>\n",
       "      <td>...</td>\n",
       "      <td>0</td>\n",
       "      <td>0</td>\n",
       "      <td>0</td>\n",
       "      <td>0</td>\n",
       "      <td>0</td>\n",
       "      <td>0</td>\n",
       "      <td>0</td>\n",
       "      <td>0</td>\n",
       "      <td>0</td>\n",
       "      <td>1</td>\n",
       "    </tr>\n",
       "    <tr>\n",
       "      <td>3</td>\n",
       "      <td>3</td>\n",
       "      <td>10000.0</td>\n",
       "      <td>11500.0</td>\n",
       "      <td>15</td>\n",
       "      <td>0</td>\n",
       "      <td>3.985770</td>\n",
       "      <td>7.491708</td>\n",
       "      <td>1.00</td>\n",
       "      <td>3</td>\n",
       "      <td>1500.0</td>\n",
       "      <td>...</td>\n",
       "      <td>0</td>\n",
       "      <td>0</td>\n",
       "      <td>0</td>\n",
       "      <td>0</td>\n",
       "      <td>0</td>\n",
       "      <td>0</td>\n",
       "      <td>0</td>\n",
       "      <td>0</td>\n",
       "      <td>0</td>\n",
       "      <td>1</td>\n",
       "    </tr>\n",
       "    <tr>\n",
       "      <td>4</td>\n",
       "      <td>9</td>\n",
       "      <td>40000.0</td>\n",
       "      <td>44000.0</td>\n",
       "      <td>30</td>\n",
       "      <td>0</td>\n",
       "      <td>7.457913</td>\n",
       "      <td>9.076574</td>\n",
       "      <td>1.00</td>\n",
       "      <td>0</td>\n",
       "      <td>4000.0</td>\n",
       "      <td>...</td>\n",
       "      <td>0</td>\n",
       "      <td>0</td>\n",
       "      <td>0</td>\n",
       "      <td>0</td>\n",
       "      <td>0</td>\n",
       "      <td>0</td>\n",
       "      <td>0</td>\n",
       "      <td>0</td>\n",
       "      <td>0</td>\n",
       "      <td>1</td>\n",
       "    </tr>\n",
       "  </tbody>\n",
       "</table>\n",
       "<p>5 rows × 81 columns</p>\n",
       "</div>"
      ],
      "text/plain": [
       "   loannumber  loanamount  totaldue  termdays  good_bad_flag  longitude_gps  \\\n",
       "0          12     30000.0   34500.0        30              0       3.432010   \n",
       "1           2     15000.0   17250.0        30              0       3.885298   \n",
       "2           7     20000.0   22250.0        15              0      11.139350   \n",
       "3           3     10000.0   11500.0        15              0       3.985770   \n",
       "4           9     40000.0   44000.0        30              0       7.457913   \n",
       "\n",
       "   latitude_gps  approval_time  creationdate_dow  additional_charges  ...  \\\n",
       "0      6.433055           1.00                 1              4500.0  ...   \n",
       "1      7.320700           1.01                 2              2250.0  ...   \n",
       "2     10.292041           1.00                 3              2250.0  ...   \n",
       "3      7.491708           1.00                 3              1500.0  ...   \n",
       "4      9.076574           1.00                 0              4000.0  ...   \n",
       "\n",
       "   bank_name_clients_Skye Bank  bank_name_clients_Stanbic IBTC  \\\n",
       "0                            0                               0   \n",
       "1                            0                               0   \n",
       "2                            0                               0   \n",
       "3                            0                               0   \n",
       "4                            0                               0   \n",
       "\n",
       "   bank_name_clients_Standard Chartered  bank_name_clients_Sterling Bank  \\\n",
       "0                                     0                                0   \n",
       "1                                     0                                0   \n",
       "2                                     0                                0   \n",
       "3                                     0                                0   \n",
       "4                                     0                                0   \n",
       "\n",
       "   bank_name_clients_UBA  bank_name_clients_Union Bank  \\\n",
       "0                      0                             0   \n",
       "1                      0                             0   \n",
       "2                      0                             0   \n",
       "3                      0                             0   \n",
       "4                      0                             0   \n",
       "\n",
       "   bank_name_clients_Unity Bank  bank_name_clients_Wema Bank  \\\n",
       "0                             0                            0   \n",
       "1                             0                            0   \n",
       "2                             0                            0   \n",
       "3                             0                            0   \n",
       "4                             0                            0   \n",
       "\n",
       "   bank_name_clients_Zenith Bank  employment_status_clients_Permanent  \n",
       "0                              0                                    1  \n",
       "1                              0                                    1  \n",
       "2                              0                                    1  \n",
       "3                              0                                    1  \n",
       "4                              0                                    1  \n",
       "\n",
       "[5 rows x 81 columns]"
      ]
     },
     "execution_count": 26,
     "metadata": {},
     "output_type": "execute_result"
    }
   ],
   "source": [
    "df.head()"
   ]
  },
  {
   "cell_type": "code",
   "execution_count": 15,
   "metadata": {},
   "outputs": [],
   "source": [
    "df.to_csv('loan_cleaned.csv')"
   ]
  },
  {
   "cell_type": "code",
   "execution_count": 27,
   "metadata": {},
   "outputs": [],
   "source": [
    "x = df.drop('good_bad_flag',axis=1)\n",
    "y = df['good_bad_flag']"
   ]
  },
  {
   "cell_type": "code",
   "execution_count": 28,
   "metadata": {},
   "outputs": [],
   "source": [
    "from sklearn.model_selection import train_test_split"
   ]
  },
  {
   "cell_type": "code",
   "execution_count": 29,
   "metadata": {},
   "outputs": [],
   "source": [
    "train_x,test_x,train_y,test_y = train_test_split(x, y, random_state = 101, stratify=y)"
   ]
  },
  {
   "cell_type": "markdown",
   "metadata": {},
   "source": [
    "### Scaling the data (Using MinMax Scaler)"
   ]
  },
  {
   "cell_type": "code",
   "execution_count": 30,
   "metadata": {},
   "outputs": [],
   "source": [
    "## Importing the MinMax Scaler\n",
    "from sklearn.preprocessing import MinMaxScaler\n",
    "scaler = MinMaxScaler()\n",
    "x_scaled = scaler.fit_transform(x)\n",
    "\n",
    "x = pd.DataFrame(x_scaled, columns = x.columns)"
   ]
  },
  {
   "cell_type": "markdown",
   "metadata": {},
   "source": [
    "### Implementing KNN classifier"
   ]
  },
  {
   "cell_type": "code",
   "execution_count": 31,
   "metadata": {},
   "outputs": [],
   "source": [
    "from sklearn.neighbors import KNeighborsClassifier as KNN\n",
    "from sklearn.metrics import f1_score"
   ]
  },
  {
   "cell_type": "code",
   "execution_count": 32,
   "metadata": {},
   "outputs": [
    {
     "name": "stdout",
     "output_type": "stream",
     "text": [
      "Train F1 Score     0.4467483506126296\n",
      "Test F1 Score     0.26136363636363635\n"
     ]
    }
   ],
   "source": [
    "#Creating an knn object\n",
    "clf = KNN(n_neighbors=5)\n",
    "\n",
    "\n",
    "#Fitting the model in train\n",
    "clf.fit(train_x,train_y)\n",
    "\n",
    "# Predicting over the Train Set and calculating F1\n",
    "train_predict = clf.predict(train_x)\n",
    "k_simple_train = f1_score(train_predict, train_y)\n",
    "print('Train F1 Score    ', k_simple_train )\n",
    "\n",
    "# Predicting over the Train Set and calculating F1\n",
    "test_predict = clf.predict(test_x)\n",
    "k_simple_test = f1_score(test_predict, test_y)\n",
    "print('Test F1 Score    ', k_simple_test )"
   ]
  },
  {
   "cell_type": "code",
   "execution_count": 33,
   "metadata": {},
   "outputs": [],
   "source": [
    "def Elbow(K):\n",
    "    #initiating empty list\n",
    "    test_error = []\n",
    "   \n",
    "    #training model for evey value of K\n",
    "    for i in K:\n",
    "        #Instance oh KNN\n",
    "        clf = KNN(n_neighbors = i)\n",
    "        clf.fit(train_x, train_y)\n",
    "        # Appending F1 scores to empty list claculated using the predictions\n",
    "        tmp = clf.predict(test_x)\n",
    "        tmp = f1_score(tmp,test_y)\n",
    "        error = 1 - tmp\n",
    "        test_error.append(error)\n",
    "    \n",
    "    return test_error"
   ]
  },
  {
   "cell_type": "code",
   "execution_count": 34,
   "metadata": {},
   "outputs": [
    {
     "data": {
      "text/plain": [
       "Text(0.5, 1.0, 'Elbow Curve for test')"
      ]
     },
     "execution_count": 34,
     "metadata": {},
     "output_type": "execute_result"
    },
    {
     "data": {
      "image/png": "[encoded data removed]",
      "text/plain": [
       "<Figure size 432x288 with 1 Axes>"
      ]
     },
     "metadata": {
      "needs_background": "light"
     },
     "output_type": "display_data"
    }
   ],
   "source": [
    "#Choosing the K value\n",
    "\n",
    "#Defining K range\n",
    "k = range(1,50)\n",
    "\n",
    "# calling above defined function\n",
    "test = Elbow(k)\n",
    "\n",
    "# plotting the Curves\n",
    "plt.plot(k, test)\n",
    "plt.xlabel('K Neighbors')\n",
    "plt.ylabel('Test error')\n",
    "plt.title('Elbow Curve for test')"
   ]
  },
  {
   "cell_type": "code",
   "execution_count": 36,
   "metadata": {},
   "outputs": [
    {
     "data": {
      "text/plain": [
       "Text(0.5, 1.0, 'Elbow Curve for test')"
      ]
     },
     "execution_count": 36,
     "metadata": {},
     "output_type": "execute_result"
    },
    {
     "data": {
      "image/png": "[encoded data removed]",
      "text/plain": [
       "<Figure size 432x288 with 1 Axes>"
      ]
     },
     "metadata": {
      "needs_background": "light"
     },
     "output_type": "display_data"
    }
   ],
   "source": [
    "#Defining K range\n",
    "k = range(5,10)\n",
    "\n",
    "# calling above defined function\n",
    "test = Elbow(k)\n",
    "\n",
    "\n",
    "# plotting the Curves\n",
    "plt.plot(k, test)\n",
    "plt.xlabel('K Neighbors')\n",
    "plt.ylabel('Test error')\n",
    "plt.title('Elbow Curve for test')"
   ]
  },
  {
   "cell_type": "markdown",
   "metadata": {},
   "source": [
    "we can see an elblow curve at 15 & 25, so lets try checking the value at 25 & 15"
   ]
  },
  {
   "cell_type": "markdown",
   "metadata": {},
   "source": [
    "### Fitting the model with new K value"
   ]
  },
  {
   "cell_type": "code",
   "execution_count": 308,
   "metadata": {},
   "outputs": [
    {
     "name": "stdout",
     "output_type": "stream",
     "text": [
      "Train F1 Score     0.30719656283566055\n",
      "Test F1 Score     0.29936305732484075\n"
     ]
    }
   ],
   "source": [
    "#Creating an knn object\n",
    "clf = KNN(n_neighbors=25)\n",
    "\n",
    "\n",
    "#Fitting the model in train\n",
    "clf.fit(train_x,train_y)\n",
    "\n",
    "# Predicting over the Train Set and calculating F1\n",
    "train_predict = clf.predict(train_x)\n",
    "k_simple_train = f1_score(train_predict, train_y)\n",
    "print('Train F1 Score    ', k_simple_train )\n",
    "\n",
    "# Predicting over the Train Set and calculating F1\n",
    "test_predict = clf.predict(test_x)\n",
    "k_simple_test = f1_score(test_predict, test_y)\n",
    "print('Test F1 Score    ', k_simple_test )"
   ]
  },
  {
   "cell_type": "code",
   "execution_count": 309,
   "metadata": {},
   "outputs": [
    {
     "name": "stdout",
     "output_type": "stream",
     "text": [
      "              precision    recall  f1-score   support\n",
      "\n",
      "           0       0.97      0.81      0.88      1016\n",
      "           1       0.20      0.62      0.30        76\n",
      "\n",
      "   micro avg       0.80      0.80      0.80      1092\n",
      "   macro avg       0.58      0.72      0.59      1092\n",
      "weighted avg       0.91      0.80      0.84      1092\n",
      "\n"
     ]
    }
   ],
   "source": [
    "from sklearn.metrics import classification_report as rep\n",
    "print(rep( test_predict, test_y ))"
   ]
  },
  {
   "cell_type": "markdown",
   "metadata": {},
   "source": [
    "### Checking the Training F1 and Test F1curve"
   ]
  },
  {
   "cell_type": "code",
   "execution_count": 310,
   "metadata": {},
   "outputs": [],
   "source": [
    "def F1score(K):\n",
    "    \n",
    "      # initiating empty list\n",
    "    train_f1 = []\n",
    "    test_f1 = []\n",
    "  \n",
    "      # training model for evey value of K\n",
    "    for i in K:\n",
    "        # Instance oh KNN\n",
    "        clf  = KNN(n_neighbors = i)\n",
    "        clf.fit(train_x, train_y)\n",
    "        # Appending F1 scores to empty list claculated using the predictions\n",
    "        tmp = clf.predict(train_x)\n",
    "        tmp = f1_score(tmp,train_y)\n",
    "        train_f1.append(tmp)\n",
    "    \n",
    "        tmp = clf.predict(test_x)\n",
    "        tmp = f1_score(tmp,test_y)\n",
    "        test_f1.append(tmp)\n",
    "    \n",
    "    return train_f1, test_f1"
   ]
  },
  {
   "cell_type": "code",
   "execution_count": 311,
   "metadata": {},
   "outputs": [
    {
     "data": {
      "text/html": [
       "<div>\n",
       "<style scoped>\n",
       "    .dataframe tbody tr th:only-of-type {\n",
       "        vertical-align: middle;\n",
       "    }\n",
       "\n",
       "    .dataframe tbody tr th {\n",
       "        vertical-align: top;\n",
       "    }\n",
       "\n",
       "    .dataframe thead th {\n",
       "        text-align: right;\n",
       "    }\n",
       "</style>\n",
       "<table border=\"1\" class=\"dataframe\">\n",
       "  <thead>\n",
       "    <tr style=\"text-align: right;\">\n",
       "      <th></th>\n",
       "      <th>train score</th>\n",
       "      <th>test score</th>\n",
       "    </tr>\n",
       "  </thead>\n",
       "  <tbody>\n",
       "    <tr>\n",
       "      <td>1</td>\n",
       "      <td>1.000000</td>\n",
       "      <td>0.313559</td>\n",
       "    </tr>\n",
       "    <tr>\n",
       "      <td>2</td>\n",
       "      <td>0.457883</td>\n",
       "      <td>0.180064</td>\n",
       "    </tr>\n",
       "    <tr>\n",
       "      <td>3</td>\n",
       "      <td>0.576561</td>\n",
       "      <td>0.281330</td>\n",
       "    </tr>\n",
       "    <tr>\n",
       "      <td>4</td>\n",
       "      <td>0.384946</td>\n",
       "      <td>0.222930</td>\n",
       "    </tr>\n",
       "    <tr>\n",
       "      <td>5</td>\n",
       "      <td>0.473538</td>\n",
       "      <td>0.280112</td>\n",
       "    </tr>\n",
       "    <tr>\n",
       "      <td>...</td>\n",
       "      <td>...</td>\n",
       "      <td>...</td>\n",
       "    </tr>\n",
       "    <tr>\n",
       "      <td>145</td>\n",
       "      <td>0.086050</td>\n",
       "      <td>0.087649</td>\n",
       "    </tr>\n",
       "    <tr>\n",
       "      <td>146</td>\n",
       "      <td>0.086162</td>\n",
       "      <td>0.087649</td>\n",
       "    </tr>\n",
       "    <tr>\n",
       "      <td>147</td>\n",
       "      <td>0.086162</td>\n",
       "      <td>0.087649</td>\n",
       "    </tr>\n",
       "    <tr>\n",
       "      <td>148</td>\n",
       "      <td>0.083770</td>\n",
       "      <td>0.087649</td>\n",
       "    </tr>\n",
       "    <tr>\n",
       "      <td>149</td>\n",
       "      <td>0.083660</td>\n",
       "      <td>0.087649</td>\n",
       "    </tr>\n",
       "  </tbody>\n",
       "</table>\n",
       "<p>149 rows × 2 columns</p>\n",
       "</div>"
      ],
      "text/plain": [
       "     train score  test score\n",
       "1       1.000000    0.313559\n",
       "2       0.457883    0.180064\n",
       "3       0.576561    0.281330\n",
       "4       0.384946    0.222930\n",
       "5       0.473538    0.280112\n",
       "..           ...         ...\n",
       "145     0.086050    0.087649\n",
       "146     0.086162    0.087649\n",
       "147     0.086162    0.087649\n",
       "148     0.083770    0.087649\n",
       "149     0.083660    0.087649\n",
       "\n",
       "[149 rows x 2 columns]"
      ]
     },
     "execution_count": 311,
     "metadata": {},
     "output_type": "execute_result"
    }
   ],
   "source": [
    "#Defining K range\n",
    "k = range(1,150)\n",
    "\n",
    "\n",
    "# calling above defined function\n",
    "train_f1, test_f1 = F1score(k)\n",
    "\n",
    "\n",
    "score = pd.DataFrame({'train score': train_f1, 'test score': test_f1}, index = k)\n",
    "score"
   ]
  },
  {
   "cell_type": "code",
   "execution_count": 312,
   "metadata": {},
   "outputs": [
    {
     "data": {
      "text/plain": [
       "<matplotlib.legend.Legend at 0x15374820198>"
      ]
     },
     "execution_count": 312,
     "metadata": {},
     "output_type": "execute_result"
    },
    {
     "data": {
      "image/png": "[encoded data removed]",
      "text/plain": [
       "<Figure size 600x300 with 1 Axes>"
      ]
     },
     "metadata": {
      "needs_background": "light"
     },
     "output_type": "display_data"
    }
   ],
   "source": [
    "# plotting the Curvesg\n",
    "plt.figure(figsize=(4,2), dpi=150)\n",
    "plt.plot(k[0:50], test_f1[0:50], color = 'red' , label = 'test')\n",
    "plt.plot(k[0:50], train_f1[0:50], color = 'green', label = 'train')\n",
    "plt.xlabel('K Neighbors')\n",
    "plt.ylabel('F1 Score')\n",
    "plt.title('F1 Curve')\n",
    "plt.ylim(0.01,1)\n",
    "plt.legend()"
   ]
  },
  {
   "cell_type": "markdown",
   "metadata": {},
   "source": [
    "We can see that initially it over fits but as the k value increases we are getting a better fit at around 25 and then it starts to decrease"
   ]
  },
  {
   "cell_type": "markdown",
   "metadata": {},
   "source": [
    "### Validation Techniques\n",
    "\n",
    "- Stratified Hold Out validation\n",
    "- K fold Cross validation"
   ]
  },
  {
   "cell_type": "code",
   "execution_count": 486,
   "metadata": {},
   "outputs": [],
   "source": [
    "x = df.drop('good_bad_flag',axis=1)\n",
    "y = df['good_bad_flag']"
   ]
  },
  {
   "cell_type": "code",
   "execution_count": 487,
   "metadata": {},
   "outputs": [],
   "source": [
    "from sklearn.model_selection import train_test_split\n",
    "train1_x, test_x , train1_y, test_y = train_test_split(x, y , \n",
    "                                          test_size = 0.25 , \n",
    "                                          random_state = 101, \n",
    "                                          stratify = y)"
   ]
  },
  {
   "cell_type": "code",
   "execution_count": 488,
   "metadata": {},
   "outputs": [
    {
     "name": "stdout",
     "output_type": "stream",
     "text": [
      "training data     (2457, 80) (2457,)\n",
      "validation data   (819, 80) (819,)\n",
      "test data         (1092, 80) (1092,)\n"
     ]
    }
   ],
   "source": [
    "train_x, val_x, train_y, val_y = train_test_split(train1_x, \n",
    "                                     train1_y, \n",
    "                                     test_size = 0.25 , \n",
    "                                     random_state = 101, \n",
    "                                     stratify = train1_y)\n",
    "\n",
    "print('training data    ',train_x.shape,train_y.shape)\n",
    "print('validation data  ',val_x.shape,val_y.shape)\n",
    "print('test data        ',test_x.shape,test_y.shape)"
   ]
  },
  {
   "cell_type": "code",
   "execution_count": 489,
   "metadata": {},
   "outputs": [
    {
     "data": {
      "text/plain": [
       "0    0.782255\n",
       "1    0.217745\n",
       "Name: good_bad_flag, dtype: float64"
      ]
     },
     "execution_count": 489,
     "metadata": {},
     "output_type": "execute_result"
    }
   ],
   "source": [
    "train_y.value_counts(normalize=True)"
   ]
  },
  {
   "cell_type": "code",
   "execution_count": 490,
   "metadata": {},
   "outputs": [
    {
     "data": {
      "text/plain": [
       "0    0.781441\n",
       "1    0.218559\n",
       "Name: good_bad_flag, dtype: float64"
      ]
     },
     "execution_count": 490,
     "metadata": {},
     "output_type": "execute_result"
    }
   ],
   "source": [
    "val_y.value_counts(normalize=True)"
   ]
  },
  {
   "cell_type": "code",
   "execution_count": 491,
   "metadata": {},
   "outputs": [
    {
     "data": {
      "text/plain": [
       "0    0.782051\n",
       "1    0.217949\n",
       "Name: good_bad_flag, dtype: float64"
      ]
     },
     "execution_count": 491,
     "metadata": {},
     "output_type": "execute_result"
    }
   ],
   "source": [
    "test_y.value_counts(normalize=True)"
   ]
  },
  {
   "cell_type": "code",
   "execution_count": 492,
   "metadata": {},
   "outputs": [
    {
     "name": "stdout",
     "output_type": "stream",
     "text": [
      "Train F1 Score     0.26946107784431134\n",
      "validation F1 Score     0.2262443438914027\n"
     ]
    }
   ],
   "source": [
    "#Creating an knn object\n",
    "clf = KNN(n_neighbors=25)\n",
    "\n",
    "\n",
    "#Fitting the model in train\n",
    "clf.fit(train_x,train_y)\n",
    "\n",
    "# Predicting over the Train Set and calculating F1\n",
    "train_predict = clf.predict(train_x)\n",
    "k_hold_train = f1_score(train_predict, train_y)\n",
    "print('Train F1 Score    ', k_hold_train )\n",
    "\n",
    "# Predicting over the Train Set and calculating F1\n",
    "test_predict = clf.predict(val_x)\n",
    "k_hold_val = f1_score(test_predict, val_y)\n",
    "print('validation F1 Score    ', k_hold_val )"
   ]
  },
  {
   "cell_type": "code",
   "execution_count": 493,
   "metadata": {},
   "outputs": [
    {
     "data": {
      "text/plain": [
       "(1, 50)"
      ]
     },
     "execution_count": 493,
     "metadata": {},
     "output_type": "execute_result"
    },
    {
     "data": {
      "image/png": "[encoded data removed]",
      "text/plain": [
       "<Figure size 432x288 with 1 Axes>"
      ]
     },
     "metadata": {
      "needs_background": "light"
     },
     "output_type": "display_data"
    }
   ],
   "source": [
    "#Choosing the optimal K value\n",
    "\n",
    "def Elbow(K):\n",
    "    #initiating empty list\n",
    "    val_error = []\n",
    "   \n",
    "    #training model for evey value of K\n",
    "    for i in K:\n",
    "        #Instance oh KNN\n",
    "        clf = KNN(n_neighbors = i)\n",
    "        clf.fit(train_x, train_y)\n",
    "        # Appending F1 scores to empty list claculated using the predictions\n",
    "        tmp = clf.predict(val_x)\n",
    "        tmp = f1_score(tmp,val_y)\n",
    "        error = 1 - tmp\n",
    "        val_error.append(error)\n",
    "    \n",
    "    return val_error\n",
    "\n",
    "#*******************************************************************************************#\n",
    "\n",
    "\n",
    "#Defining K range\n",
    "k = range(1,50)\n",
    "\n",
    "# calling above defined function\n",
    "val = Elbow(k)\n",
    "\n",
    "# plotting the Curves\n",
    "plt.plot(k, val)\n",
    "plt.xlabel('K Neighbors')\n",
    "plt.ylabel('validation error')\n",
    "plt.title('Error Curve')\n",
    "plt.xlim(1,50)\n"
   ]
  },
  {
   "cell_type": "code",
   "execution_count": 494,
   "metadata": {},
   "outputs": [
    {
     "data": {
      "text/plain": [
       "(1, 20)"
      ]
     },
     "execution_count": 494,
     "metadata": {},
     "output_type": "execute_result"
    },
    {
     "data": {
      "image/png": "[encoded data removed]",
      "text/plain": [
       "<Figure size 432x288 with 1 Axes>"
      ]
     },
     "metadata": {
      "needs_background": "light"
     },
     "output_type": "display_data"
    }
   ],
   "source": [
    "# plotting the Curves\n",
    "plt.plot(k, val)\n",
    "plt.xlabel('K Neighbors')\n",
    "plt.ylabel('validation error')\n",
    "plt.xlim(1,20)\n"
   ]
  },
  {
   "cell_type": "markdown",
   "metadata": {},
   "source": [
    "Here you can see that the least error is at 3 and 15, lets fit those points"
   ]
  },
  {
   "cell_type": "code",
   "execution_count": 382,
   "metadata": {},
   "outputs": [
    {
     "name": "stdout",
     "output_type": "stream",
     "text": [
      "best P: 2\n",
      "Best n_neighbors: 15\n",
      "0.23920265780730895\n"
     ]
    }
   ],
   "source": [
    "from sklearn.model_selection import GridSearchCV\n",
    "\n",
    "# leaf_size = list(range(1,10))\n",
    "n_neighbors = [3,15]\n",
    "p=[1,2]\n",
    "\n",
    "\n",
    "hyperparameters= dict(n_neighbors=n_neighbors, p=p)\n",
    "\n",
    "GS= GridSearchCV(KNN(),hyperparameters,cv=10)\n",
    "\n",
    "best_model = GS.fit(train_x,train_y)\n",
    "\n",
    "\n",
    "#best parameters values\n",
    "# print('Best leaf size:',best_model.best_estimator_.get_params()['leaf_size'])\n",
    "\n",
    "print('best P:', best_model.best_estimator_.get_params()['p'])\n",
    "\n",
    "print('Best n_neighbors:', best_model.best_estimator_.get_params()['n_neighbors'])\n",
    "\n",
    "\n",
    "\n",
    "y_pred = best_model.predict(test_x)\n",
    "\n",
    "print(f1_score(y_pred,test_y))"
   ]
  },
  {
   "cell_type": "code",
   "execution_count": 383,
   "metadata": {},
   "outputs": [
    {
     "name": "stdout",
     "output_type": "stream",
     "text": [
      "Train F1 Score     0.27380952380952384\n",
      "Test F1 Score     0.23920265780730895\n"
     ]
    }
   ],
   "source": [
    "#Creating an knn object\n",
    "clf = KNN(n_neighbors=15)\n",
    "\n",
    "\n",
    "#Fitting the model in train\n",
    "clf.fit(train_x,train_y)\n",
    "\n",
    "# Predicting over the Train Set and calculating F1\n",
    "train_predict = clf.predict(train_x)\n",
    "k_hold_train = f1_score(train_predict, train_y)\n",
    "print('Train F1 Score    ', k_hold_train )\n",
    "\n",
    "\n",
    "# Predicting over the Train Set and calculating F1\n",
    "test_predict = clf.predict(test_x)\n",
    "k_hold_test = f1_score(test_predict, test_y)\n",
    "print('Test F1 Score    ', k_hold_test )"
   ]
  },
  {
   "cell_type": "code",
   "execution_count": 384,
   "metadata": {},
   "outputs": [
    {
     "name": "stdout",
     "output_type": "stream",
     "text": [
      "              precision    recall  f1-score   support\n",
      "\n",
      "           0       0.97      0.80      0.88      1029\n",
      "           1       0.15      0.57      0.24        63\n",
      "\n",
      "   micro avg       0.79      0.79      0.79      1092\n",
      "   macro avg       0.56      0.69      0.56      1092\n",
      "weighted avg       0.92      0.79      0.84      1092\n",
      "\n"
     ]
    }
   ],
   "source": [
    "from sklearn.metrics import classification_report as rep\n",
    "print(rep( test_predict, test_y ))"
   ]
  },
  {
   "cell_type": "markdown",
   "metadata": {},
   "source": [
    "Here we can see that at k=15 the result is 0.23 which is lesser than the train and test split"
   ]
  },
  {
   "cell_type": "markdown",
   "metadata": {},
   "source": [
    "### K fold cross validation"
   ]
  },
  {
   "cell_type": "code",
   "execution_count": 457,
   "metadata": {},
   "outputs": [],
   "source": [
    "x = df.drop('good_bad_flag',axis=1)\n",
    "y = df['good_bad_flag']"
   ]
  },
  {
   "cell_type": "code",
   "execution_count": 458,
   "metadata": {},
   "outputs": [],
   "source": [
    "train_x,test_x,train_y,test_y = train_test_split(x, y, random_state = 56, stratify=y)"
   ]
  },
  {
   "cell_type": "code",
   "execution_count": 459,
   "metadata": {},
   "outputs": [],
   "source": [
    "## Importing the MinMax Scaler\n",
    "from sklearn.preprocessing import MinMaxScaler\n",
    "scaler = MinMaxScaler()\n",
    "\n",
    "train_x = scaler.fit_transform(train_x)\n"
   ]
  },
  {
   "cell_type": "code",
   "execution_count": 460,
   "metadata": {},
   "outputs": [],
   "source": [
    "from sklearn.model_selection import cross_val_score"
   ]
  },
  {
   "cell_type": "code",
   "execution_count": 461,
   "metadata": {},
   "outputs": [],
   "source": [
    "def Val_score(n_neighbors):\n",
    "    '''\n",
    "  takes range of n_neighbors as input\n",
    "  returns Mean and Standard Deviation for each value of n_neighbors\n",
    "  '''\n",
    "    avg = []\n",
    "    std = []\n",
    "  \n",
    "    for i in n_neighbors:\n",
    "    \n",
    "    # k fold cross validation for every value of n_neighbor\n",
    "      score = cross_val_score(KNN(n_neighbors = i) , X = train_x, y = train_y, cv = 8,scoring='f1')\n",
    "    \n",
    "    # adding mean to avg list\n",
    "      avg.append(score.mean())\n",
    "    \n",
    "    # adding standard deviation to std list\n",
    "      std.append(score.std())\n",
    "    \n",
    "    return avg, std"
   ]
  },
  {
   "cell_type": "code",
   "execution_count": 462,
   "metadata": {},
   "outputs": [],
   "source": [
    "n_neighbors = range(1,50)\n",
    "mean, std = Val_score(n_neighbors)"
   ]
  },
  {
   "cell_type": "code",
   "execution_count": 463,
   "metadata": {},
   "outputs": [
    {
     "data": {
      "text/plain": [
       "<matplotlib.legend.Legend at 0x153749519b0>"
      ]
     },
     "execution_count": 463,
     "metadata": {},
     "output_type": "execute_result"
    },
    {
     "data": {
      "image/png": "[encoded data removed]",
      "text/plain": [
       "<Figure size 432x288 with 1 Axes>"
      ]
     },
     "metadata": {
      "needs_background": "light"
     },
     "output_type": "display_data"
    }
   ],
   "source": [
    "plt.plot(n_neighbors, mean, color = 'green', label = 'mean' )\n",
    "plt.xlabel('n_neighbors')\n",
    "plt.ylabel('Mean Score')\n",
    "plt.title('Mean Validation score')\n",
    "\n",
    "plt.plot(n_neighbors, std, color = 'red', label = 'Standard deviation' )\n",
    "plt.xlabel('n_neighbors')\n",
    "plt.ylabel('magnitude')\n",
    "plt.title('Standard Deviation vs Mean of Validation score')\n",
    "plt.legend()"
   ]
  },
  {
   "cell_type": "code",
   "execution_count": 389,
   "metadata": {},
   "outputs": [
    {
     "name": "stdout",
     "output_type": "stream",
     "text": [
      "Train F1 Score     0.2886297376093295\n",
      "Test F1 Score     0.2483660130718954\n"
     ]
    }
   ],
   "source": [
    "clf = KNN(n_neighbors =19)\n",
    "\n",
    "clf.fit(train_x, train_y)\n",
    "\n",
    "\n",
    "# Predicting over the Train Set and calculating F1\n",
    "train_predict = clf.predict(train_x)\n",
    "k_cross_train = f1_score(train_predict, train_y)\n",
    "print('Train F1 Score    ', k_cross_train )\n",
    "\n",
    "# Predicting over the Train Set and calculating F1\n",
    "test_predict = clf.predict(test_x)\n",
    "k_cross_test = f1_score(test_predict, test_y)\n",
    "print('Test F1 Score    ', k_cross_test )"
   ]
  },
  {
   "cell_type": "code",
   "execution_count": 392,
   "metadata": {},
   "outputs": [
    {
     "name": "stdout",
     "output_type": "stream",
     "text": [
      "              precision    recall  f1-score   support\n",
      "\n",
      "           0       0.96      0.80      0.88      1024\n",
      "           1       0.16      0.56      0.25        68\n",
      "\n",
      "   micro avg       0.79      0.79      0.79      1092\n",
      "   macro avg       0.56      0.68      0.56      1092\n",
      "weighted avg       0.91      0.79      0.84      1092\n",
      "\n"
     ]
    }
   ],
   "source": [
    "from sklearn.metrics import classification_report as rep\n",
    "print(rep( test_predict, test_y ))"
   ]
  },
  {
   "cell_type": "markdown",
   "metadata": {},
   "source": [
    "### Feature Selection - forward "
   ]
  },
  {
   "cell_type": "code",
   "execution_count": 171,
   "metadata": {},
   "outputs": [],
   "source": [
    "from mlxtend.feature_selection import SequentialFeatureSelector as sfs"
   ]
  },
  {
   "cell_type": "code",
   "execution_count": 420,
   "metadata": {},
   "outputs": [],
   "source": [
    "x = df.drop('good_bad_flag',axis=1)\n",
    "y = df['good_bad_flag']\n",
    "\n",
    "train_x,test_x,train_y,test_y = train_test_split(x, y, random_state = 66, stratify=y)"
   ]
  },
  {
   "cell_type": "code",
   "execution_count": 421,
   "metadata": {},
   "outputs": [
    {
     "data": {
      "text/plain": [
       "KNeighborsClassifier(algorithm='auto', leaf_size=30, metric='minkowski',\n",
       "           metric_params=None, n_jobs=None, n_neighbors=3, p=2,\n",
       "           weights='uniform')"
      ]
     },
     "execution_count": 421,
     "metadata": {},
     "output_type": "execute_result"
    }
   ],
   "source": [
    "clf = KNN(n_neighbors =3,p=2)\n",
    "\n",
    "clf.fit(train_x, train_y)\n"
   ]
  },
  {
   "cell_type": "code",
   "execution_count": 422,
   "metadata": {},
   "outputs": [],
   "source": [
    "sfs1 = sfs(clf, k_features=(20,30), forward=True, verbose=2, scoring='f1')"
   ]
  },
  {
   "cell_type": "code",
   "execution_count": 423,
   "metadata": {
    "scrolled": true
   },
   "outputs": [
    {
     "name": "stderr",
     "output_type": "stream",
     "text": [
      "[Parallel(n_jobs=1)]: Using backend SequentialBackend with 1 concurrent workers.\n",
      "[Parallel(n_jobs=1)]: Done   1 out of   1 | elapsed:    0.2s remaining:    0.0s\n",
      "[Parallel(n_jobs=1)]: Done  80 out of  80 | elapsed:   16.5s finished\n",
      "\n",
      "[2020-09-11 10:40:20] Features: 1/30 -- score: 0.2987371562528261[Parallel(n_jobs=1)]: Using backend SequentialBackend with 1 concurrent workers.\n",
      "[Parallel(n_jobs=1)]: Done   1 out of   1 | elapsed:    0.0s remaining:    0.0s\n",
      "[Parallel(n_jobs=1)]: Done  79 out of  79 | elapsed:   13.4s finished\n",
      "\n",
      "[2020-09-11 10:40:34] Features: 2/30 -- score: 0.3433592184447586[Parallel(n_jobs=1)]: Using backend SequentialBackend with 1 concurrent workers.\n",
      "[Parallel(n_jobs=1)]: Done   1 out of   1 | elapsed:    0.1s remaining:    0.0s\n",
      "[Parallel(n_jobs=1)]: Done  78 out of  78 | elapsed:   13.5s finished\n",
      "\n",
      "[2020-09-11 10:40:47] Features: 3/30 -- score: 0.3537118550618609[Parallel(n_jobs=1)]: Using backend SequentialBackend with 1 concurrent workers.\n",
      "[Parallel(n_jobs=1)]: Done   1 out of   1 | elapsed:    0.1s remaining:    0.0s\n",
      "[Parallel(n_jobs=1)]: Done  77 out of  77 | elapsed:   14.0s finished\n",
      "\n",
      "[2020-09-11 10:41:02] Features: 4/30 -- score: 0.35897142505904983[Parallel(n_jobs=1)]: Using backend SequentialBackend with 1 concurrent workers.\n",
      "[Parallel(n_jobs=1)]: Done   1 out of   1 | elapsed:    0.1s remaining:    0.0s\n",
      "[Parallel(n_jobs=1)]: Done  76 out of  76 | elapsed:   14.2s finished\n",
      "\n",
      "[2020-09-11 10:41:16] Features: 5/30 -- score: 0.3621921029588606[Parallel(n_jobs=1)]: Using backend SequentialBackend with 1 concurrent workers.\n",
      "[Parallel(n_jobs=1)]: Done   1 out of   1 | elapsed:    0.1s remaining:    0.0s\n",
      "[Parallel(n_jobs=1)]: Done  75 out of  75 | elapsed:   16.1s finished\n",
      "\n",
      "[2020-09-11 10:41:32] Features: 6/30 -- score: 0.36268161470255983[Parallel(n_jobs=1)]: Using backend SequentialBackend with 1 concurrent workers.\n",
      "[Parallel(n_jobs=1)]: Done   1 out of   1 | elapsed:    0.1s remaining:    0.0s\n",
      "[Parallel(n_jobs=1)]: Done  74 out of  74 | elapsed:   14.2s finished\n",
      "\n",
      "[2020-09-11 10:41:46] Features: 7/30 -- score: 0.3630017976642522[Parallel(n_jobs=1)]: Using backend SequentialBackend with 1 concurrent workers.\n",
      "[Parallel(n_jobs=1)]: Done   1 out of   1 | elapsed:    0.1s remaining:    0.0s\n",
      "[Parallel(n_jobs=1)]: Done  73 out of  73 | elapsed:   13.7s finished\n",
      "\n",
      "[2020-09-11 10:42:00] Features: 8/30 -- score: 0.3630017976642522[Parallel(n_jobs=1)]: Using backend SequentialBackend with 1 concurrent workers.\n",
      "[Parallel(n_jobs=1)]: Done   1 out of   1 | elapsed:    0.1s remaining:    0.0s\n",
      "[Parallel(n_jobs=1)]: Done  72 out of  72 | elapsed:   14.3s finished\n",
      "\n",
      "[2020-09-11 10:42:15] Features: 9/30 -- score: 0.3630017976642522[Parallel(n_jobs=1)]: Using backend SequentialBackend with 1 concurrent workers.\n",
      "[Parallel(n_jobs=1)]: Done   1 out of   1 | elapsed:    0.2s remaining:    0.0s\n",
      "[Parallel(n_jobs=1)]: Done  71 out of  71 | elapsed:   14.4s finished\n",
      "\n",
      "[2020-09-11 10:42:29] Features: 10/30 -- score: 0.3630017976642522[Parallel(n_jobs=1)]: Using backend SequentialBackend with 1 concurrent workers.\n",
      "[Parallel(n_jobs=1)]: Done   1 out of   1 | elapsed:    0.1s remaining:    0.0s\n",
      "[Parallel(n_jobs=1)]: Done  70 out of  70 | elapsed:   15.4s finished\n",
      "\n",
      "[2020-09-11 10:42:45] Features: 11/30 -- score: 0.3625241453745749[Parallel(n_jobs=1)]: Using backend SequentialBackend with 1 concurrent workers.\n",
      "[Parallel(n_jobs=1)]: Done   1 out of   1 | elapsed:    0.2s remaining:    0.0s\n",
      "[Parallel(n_jobs=1)]: Done  69 out of  69 | elapsed:   14.5s finished\n",
      "\n",
      "[2020-09-11 10:42:59] Features: 12/30 -- score: 0.36189382681021215[Parallel(n_jobs=1)]: Using backend SequentialBackend with 1 concurrent workers.\n",
      "[Parallel(n_jobs=1)]: Done   1 out of   1 | elapsed:    0.1s remaining:    0.0s\n",
      "[Parallel(n_jobs=1)]: Done  68 out of  68 | elapsed:   15.7s finished\n",
      "\n",
      "[2020-09-11 10:43:15] Features: 13/30 -- score: 0.36145887789270414[Parallel(n_jobs=1)]: Using backend SequentialBackend with 1 concurrent workers.\n",
      "[Parallel(n_jobs=1)]: Done   1 out of   1 | elapsed:    0.1s remaining:    0.0s\n",
      "[Parallel(n_jobs=1)]: Done  67 out of  67 | elapsed:   16.2s finished\n",
      "\n",
      "[2020-09-11 10:43:31] Features: 14/30 -- score: 0.35920772668315204[Parallel(n_jobs=1)]: Using backend SequentialBackend with 1 concurrent workers.\n",
      "[Parallel(n_jobs=1)]: Done   1 out of   1 | elapsed:    0.1s remaining:    0.0s\n",
      "[Parallel(n_jobs=1)]: Done  66 out of  66 | elapsed:   16.3s finished\n",
      "\n",
      "[2020-09-11 10:43:48] Features: 15/30 -- score: 0.35593142576970044[Parallel(n_jobs=1)]: Using backend SequentialBackend with 1 concurrent workers.\n",
      "[Parallel(n_jobs=1)]: Done   1 out of   1 | elapsed:    0.1s remaining:    0.0s\n",
      "[Parallel(n_jobs=1)]: Done  65 out of  65 | elapsed:   15.5s finished\n",
      "\n",
      "[2020-09-11 10:44:03] Features: 16/30 -- score: 0.3528907035003247[Parallel(n_jobs=1)]: Using backend SequentialBackend with 1 concurrent workers.\n",
      "[Parallel(n_jobs=1)]: Done   1 out of   1 | elapsed:    0.1s remaining:    0.0s\n",
      "[Parallel(n_jobs=1)]: Done  64 out of  64 | elapsed:   16.9s finished\n",
      "\n",
      "[2020-09-11 10:44:20] Features: 17/30 -- score: 0.34932910041587467[Parallel(n_jobs=1)]: Using backend SequentialBackend with 1 concurrent workers.\n",
      "[Parallel(n_jobs=1)]: Done   1 out of   1 | elapsed:    0.1s remaining:    0.0s\n",
      "[Parallel(n_jobs=1)]: Done  63 out of  63 | elapsed:   14.6s finished\n",
      "\n",
      "[2020-09-11 10:44:35] Features: 18/30 -- score: 0.34579007875624834[Parallel(n_jobs=1)]: Using backend SequentialBackend with 1 concurrent workers.\n",
      "[Parallel(n_jobs=1)]: Done   1 out of   1 | elapsed:    0.4s remaining:    0.0s\n",
      "[Parallel(n_jobs=1)]: Done  62 out of  62 | elapsed:   15.4s finished\n",
      "\n",
      "[2020-09-11 10:44:51] Features: 19/30 -- score: 0.35445411978130065[Parallel(n_jobs=1)]: Using backend SequentialBackend with 1 concurrent workers.\n",
      "[Parallel(n_jobs=1)]: Done   1 out of   1 | elapsed:    0.2s remaining:    0.0s\n",
      "[Parallel(n_jobs=1)]: Done  61 out of  61 | elapsed:   22.1s finished\n",
      "\n",
      "[2020-09-11 10:45:13] Features: 20/30 -- score: 0.3553493770517333[Parallel(n_jobs=1)]: Using backend SequentialBackend with 1 concurrent workers.\n",
      "[Parallel(n_jobs=1)]: Done   1 out of   1 | elapsed:    0.4s remaining:    0.0s\n",
      "[Parallel(n_jobs=1)]: Done  60 out of  60 | elapsed:   22.3s finished\n",
      "\n",
      "[2020-09-11 10:45:35] Features: 21/30 -- score: 0.3617408218434474[Parallel(n_jobs=1)]: Using backend SequentialBackend with 1 concurrent workers.\n",
      "[Parallel(n_jobs=1)]: Done   1 out of   1 | elapsed:    0.3s remaining:    0.0s\n",
      "[Parallel(n_jobs=1)]: Done  59 out of  59 | elapsed:   23.7s finished\n",
      "\n",
      "[2020-09-11 10:45:59] Features: 22/30 -- score: 0.3654844762413795[Parallel(n_jobs=1)]: Using backend SequentialBackend with 1 concurrent workers.\n",
      "[Parallel(n_jobs=1)]: Done   1 out of   1 | elapsed:    0.5s remaining:    0.0s\n",
      "[Parallel(n_jobs=1)]: Done  58 out of  58 | elapsed:   24.2s finished\n",
      "\n",
      "[2020-09-11 10:46:23] Features: 23/30 -- score: 0.3654599937226476[Parallel(n_jobs=1)]: Using backend SequentialBackend with 1 concurrent workers.\n",
      "[Parallel(n_jobs=1)]: Done   1 out of   1 | elapsed:    0.3s remaining:    0.0s\n",
      "[Parallel(n_jobs=1)]: Done  57 out of  57 | elapsed:   24.7s finished\n",
      "\n",
      "[2020-09-11 10:46:48] Features: 24/30 -- score: 0.36529754930152813[Parallel(n_jobs=1)]: Using backend SequentialBackend with 1 concurrent workers.\n",
      "[Parallel(n_jobs=1)]: Done   1 out of   1 | elapsed:    0.3s remaining:    0.0s\n",
      "[Parallel(n_jobs=1)]: Done  56 out of  56 | elapsed:   25.5s finished\n",
      "\n",
      "[2020-09-11 10:47:14] Features: 25/30 -- score: 0.36309900874940015[Parallel(n_jobs=1)]: Using backend SequentialBackend with 1 concurrent workers.\n",
      "[Parallel(n_jobs=1)]: Done   1 out of   1 | elapsed:    0.4s remaining:    0.0s\n",
      "[Parallel(n_jobs=1)]: Done  55 out of  55 | elapsed:   24.9s finished\n",
      "\n",
      "[2020-09-11 10:47:39] Features: 26/30 -- score: 0.35915451538708576[Parallel(n_jobs=1)]: Using backend SequentialBackend with 1 concurrent workers.\n",
      "[Parallel(n_jobs=1)]: Done   1 out of   1 | elapsed:    0.7s remaining:    0.0s\n",
      "[Parallel(n_jobs=1)]: Done  54 out of  54 | elapsed:   27.6s finished\n",
      "\n",
      "[2020-09-11 10:48:07] Features: 27/30 -- score: 0.3644563188520138[Parallel(n_jobs=1)]: Using backend SequentialBackend with 1 concurrent workers.\n",
      "[Parallel(n_jobs=1)]: Done   1 out of   1 | elapsed:    0.4s remaining:    0.0s\n"
     ]
    },
    {
     "name": "stderr",
     "output_type": "stream",
     "text": [
      "[Parallel(n_jobs=1)]: Done  53 out of  53 | elapsed:   24.8s finished\n",
      "\n",
      "[2020-09-11 10:48:31] Features: 28/30 -- score: 0.37216429028281095[Parallel(n_jobs=1)]: Using backend SequentialBackend with 1 concurrent workers.\n",
      "[Parallel(n_jobs=1)]: Done   1 out of   1 | elapsed:    0.4s remaining:    0.0s\n",
      "[Parallel(n_jobs=1)]: Done  52 out of  52 | elapsed:   24.7s finished\n",
      "\n",
      "[2020-09-11 10:48:56] Features: 29/30 -- score: 0.37682110650644096[Parallel(n_jobs=1)]: Using backend SequentialBackend with 1 concurrent workers.\n",
      "[Parallel(n_jobs=1)]: Done   1 out of   1 | elapsed:    0.4s remaining:    0.0s\n",
      "[Parallel(n_jobs=1)]: Done  51 out of  51 | elapsed:   29.6s finished\n",
      "\n",
      "[2020-09-11 10:49:26] Features: 30/30 -- score: 0.3796089722927437"
     ]
    }
   ],
   "source": [
    "sfs1 = sfs1.fit(train_x, train_y)"
   ]
  },
  {
   "cell_type": "code",
   "execution_count": 424,
   "metadata": {},
   "outputs": [
    {
     "name": "stdout",
     "output_type": "stream",
     "text": [
      "['approval_time', 'ploan_loanamount_min', 'ploan_loanamount_25%', 'ploan_termdays_min', 'ploan_termdays_25%', 'ploan_termdays_50%', 'ploan_first_return_days_mean', 'ploan_first_return_days_max', 'ploan_additional charges_min_x', 'ploan_additional charges_50%_x', 'ploan_additional charges_75%_x', 'ploan_additional charges_mean_y', 'ploan_additional charges_min_y', 'ploan_additional charges_50%_y', 'bank_account_type_Other', 'bank_account_type_Savings', 'bank_name_clients_Diamond Bank', 'bank_name_clients_EcoBank', 'bank_name_clients_FCMB', 'bank_name_clients_Fidelity Bank', 'bank_name_clients_First Bank', 'bank_name_clients_Heritage Bank', 'bank_name_clients_Keystone Bank', 'bank_name_clients_Skye Bank', 'bank_name_clients_Stanbic IBTC', 'bank_name_clients_Standard Chartered', 'bank_name_clients_Sterling Bank', 'bank_name_clients_Union Bank', 'bank_name_clients_Unity Bank', 'bank_name_clients_Wema Bank']\n"
     ]
    }
   ],
   "source": [
    "feat_names = list(sfs1.k_feature_names_)\n",
    "print(feat_names)"
   ]
  },
  {
   "cell_type": "code",
   "execution_count": 425,
   "metadata": {},
   "outputs": [
    {
     "data": {
      "text/plain": [
       "80"
      ]
     },
     "execution_count": 425,
     "metadata": {},
     "output_type": "execute_result"
    }
   ],
   "source": [
    "len(train_x.columns)"
   ]
  },
  {
   "cell_type": "code",
   "execution_count": 426,
   "metadata": {},
   "outputs": [],
   "source": [
    "x = df[feat_names]\n",
    "\n",
    "y = df['good_bad_flag']\n",
    "\n",
    "\n",
    "train_x,test_x,train_y,test_y = train_test_split(x, y, random_state =56, stratify=y)"
   ]
  },
  {
   "cell_type": "code",
   "execution_count": 427,
   "metadata": {},
   "outputs": [],
   "source": [
    "## Importing the MinMax Scaler\n",
    "from sklearn.preprocessing import MinMaxScaler\n",
    "scaler = MinMaxScaler()\n",
    "\n",
    "train_x = scaler.fit_transform(train_x)"
   ]
  },
  {
   "cell_type": "code",
   "execution_count": 442,
   "metadata": {},
   "outputs": [
    {
     "data": {
      "text/plain": [
       "<matplotlib.legend.Legend at 0x15376014fd0>"
      ]
     },
     "execution_count": 442,
     "metadata": {},
     "output_type": "execute_result"
    },
    {
     "data": {
      "image/png": "[encoded data removed]",
      "text/plain": [
       "<Figure size 432x288 with 1 Axes>"
      ]
     },
     "metadata": {
      "needs_background": "light"
     },
     "output_type": "display_data"
    }
   ],
   "source": [
    "n_neighbors = range(1,150)\n",
    "mean, std = Val_score(n_neighbors)\n",
    "\n",
    "\n",
    "plt.plot(n_neighbors, mean, color = 'green', label = 'mean' )\n",
    "plt.xlabel('n_neighbors')\n",
    "plt.ylabel('Mean Score')\n",
    "plt.title('Mean Validation score')\n",
    "\n",
    "plt.plot(n_neighbors, std, color = 'red', label = 'Standard deviation' )\n",
    "plt.xlabel('n_neighbors')\n",
    "plt.ylabel('magnitude')\n",
    "plt.title('Standard Deviation vs Mean of Validation score')\n",
    "plt.legend()"
   ]
  },
  {
   "cell_type": "code",
   "execution_count": 441,
   "metadata": {},
   "outputs": [
    {
     "name": "stdout",
     "output_type": "stream",
     "text": [
      "Train F1 Score     0.27999999999999997\n",
      "Test F1 Score     0.26058631921824105\n"
     ]
    }
   ],
   "source": [
    "clf = KNN(n_neighbors =20,p=2)\n",
    "\n",
    "clf.fit(train_x, train_y)\n",
    "\n",
    "\n",
    "# Predicting over the Train Set and calculating F1\n",
    "train_predict = clf.predict(train_x)\n",
    "k_cross_train = f1_score(train_predict, train_y)\n",
    "print('Train F1 Score    ', k_cross_train )\n",
    "\n",
    "# Predicting over the Train Set and calculating F1\n",
    "test_predict = clf.predict(test_x)\n",
    "k_feat_test = f1_score(test_predict, test_y)\n",
    "print('Test F1 Score    ', k_feat_test )\n",
    "\n"
   ]
  },
  {
   "cell_type": "code",
   "execution_count": 443,
   "metadata": {},
   "outputs": [
    {
     "name": "stdout",
     "output_type": "stream",
     "text": [
      "              precision    recall  f1-score   support\n",
      "\n",
      "           0       0.97      0.81      0.88      1023\n",
      "           1       0.17      0.58      0.26        69\n",
      "\n",
      "   micro avg       0.79      0.79      0.79      1092\n",
      "   macro avg       0.57      0.69      0.57      1092\n",
      "weighted avg       0.92      0.79      0.84      1092\n",
      "\n"
     ]
    }
   ],
   "source": [
    "from sklearn.metrics import classification_report as rep\n",
    "print(rep( test_predict, test_y ))"
   ]
  },
  {
   "cell_type": "code",
   "execution_count": 444,
   "metadata": {},
   "outputs": [
    {
     "name": "stdout",
     "output_type": "stream",
     "text": [
      "Simple KNN 0.29936305732484075 \n",
      "\n",
      "Stratified hold out 0.23920265780730895 \n",
      "\n",
      "K fold cross 0.2483660130718954 \n",
      "\n",
      "k fold feature selected 0.26058631921824105\n"
     ]
    }
   ],
   "source": [
    "# Final Summary\n",
    "\n",
    "print('Simple KNN', k_simple_test,'\\n')\n",
    "\n",
    "print('Stratified hold out', k_hold_test,'\\n')\n",
    "\n",
    "print('K fold cross', k_cross_test,'\\n')\n",
    "\n",
    "print('k fold feature selected', k_feat_test )"
   ]
  },
  {
   "cell_type": "markdown",
   "metadata": {},
   "source": [
    "Inference: \n",
    "- Knn performed slightly better with cross fold and feature selection, but still the f1 score were quite low than that of logistic regression"
   ]
  },
  {
   "cell_type": "code",
   "execution_count": null,
   "metadata": {},
   "outputs": [],
   "source": []
  },
  {
   "cell_type": "code",
   "execution_count": null,
   "metadata": {},
   "outputs": [],
   "source": [
    "# from sklearn.model_selection import GridSearchCV"
   ]
  },
  {
   "cell_type": "code",
   "execution_count": null,
   "metadata": {},
   "outputs": [],
   "source": [
    "# leaf_size = list(range(1,50))\n",
    "# n_neighbors = list(range(1,30))\n",
    "# p=[1,2]\n",
    "\n",
    "\n",
    "# hyperparameters= dict(leaf_size=leaf_size, n_neighbors=n_neighbors, p=p)\n",
    "\n",
    "# GS= GridSearchCV(KNN(),hyperparameters,cv=10)\n",
    "\n",
    "# best_model = GS.fit(train_x,train_y)\n",
    "\n",
    "\n",
    "# #best parameters values\n",
    "# print('Best leaf size:',best_model.best_estimator_.get_params()['leaf_size'])\n",
    "\n",
    "# print('best P:', best_model.best_estimator_.get_params()['p'])\n",
    "\n",
    "# print('Best n_neighbors:', best_model.best_estimator_.get_params()['n_neighbors'])\n",
    "\n",
    "\n",
    "\n",
    "# y_pred = best_model.predict(test_x)\n",
    "\n",
    "# print(f1_score(y_pred,test_y))"
   ]
  },
  {
   "cell_type": "code",
   "execution_count": null,
   "metadata": {},
   "outputs": [],
   "source": [
    "# params = {'n_neighbors':[2,3,4,5,6,7,8]}\n",
    "\n",
    "# clf = KNN()\n",
    "\n",
    "# model = GridSearchCV(clf, params, cv=7)\n",
    "\n",
    "# model.fit(train_x, train_y)\n",
    "\n",
    "# print('Best parameters k = {}'.format(model.best_params_))"
   ]
  },
  {
   "cell_type": "code",
   "execution_count": null,
   "metadata": {},
   "outputs": [],
   "source": []
  }
 ],
 "metadata": {
  "kernelspec": {
   "display_name": "Python 3",
   "language": "python",
   "name": "python3"
  },
  "language_info": {
   "codemirror_mode": {
    "name": "ipython",
    "version": 3
   },
   "file_extension": ".py",
   "mimetype": "text/x-python",
   "name": "python",
   "nbconvert_exporter": "python",
   "pygments_lexer": "ipython3",
   "version": "3.7.1"
  }
 },
 "nbformat": 4,
 "nbformat_minor": 2
}
